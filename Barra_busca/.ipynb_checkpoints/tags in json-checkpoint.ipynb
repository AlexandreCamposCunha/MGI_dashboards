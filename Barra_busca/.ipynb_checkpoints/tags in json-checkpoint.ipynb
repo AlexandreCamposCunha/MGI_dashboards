{
 "cells": [
  {
   "cell_type": "code",
   "execution_count": 1,
   "id": "1eef055d",
   "metadata": {},
   "outputs": [],
   "source": [
    "import pandas as pd\n",
    "import json\n",
    "from selenium.webdriver.support import expected_conditions as EC\n",
    "from selenium.webdriver.common.by import By\n",
    "from selenium.webdriver.common.keys import Keys\n",
    "from selenium.webdriver.support.ui import WebDriverWait\n",
    "from selenium.webdriver.support.select import Select\n",
    "from selenium.webdriver.common.keys import Keys\n",
    "from selenium.webdriver.firefox.firefox_binary import FirefoxBinary\n",
    "from selenium.common.exceptions import NoSuchElementException, ElementNotInteractableException, TimeoutException, WebDriverException, ElementClickInterceptedException, InvalidElementStateException\n",
    "from webdriver_manager.chrome import ChromeDriverManager\n",
    "from selenium.webdriver.chrome.options import Options\n",
    "from datetime import datetime\n",
    "from selenium import webdriver\n",
    "import time"
   ]
  },
  {
   "cell_type": "code",
   "execution_count": 2,
   "id": "8582532b",
   "metadata": {},
   "outputs": [
    {
     "data": {
      "text/html": [
       "<div>\n",
       "<style scoped>\n",
       "    .dataframe tbody tr th:only-of-type {\n",
       "        vertical-align: middle;\n",
       "    }\n",
       "\n",
       "    .dataframe tbody tr th {\n",
       "        vertical-align: top;\n",
       "    }\n",
       "\n",
       "    .dataframe thead th {\n",
       "        text-align: right;\n",
       "    }\n",
       "</style>\n",
       "<table border=\"1\" class=\"dataframe\">\n",
       "  <thead>\n",
       "    <tr style=\"text-align: right;\">\n",
       "      <th></th>\n",
       "      <th>id</th>\n",
       "      <th>text</th>\n",
       "    </tr>\n",
       "  </thead>\n",
       "  <tbody>\n",
       "    <tr>\n",
       "      <th>0</th>\n",
       "      <td>1</td>\n",
       "      <td>desenvolvimento de pessoas</td>\n",
       "    </tr>\n",
       "    <tr>\n",
       "      <th>1</th>\n",
       "      <td>2</td>\n",
       "      <td>política nacional de desenvolvimento de pessoas</td>\n",
       "    </tr>\n",
       "    <tr>\n",
       "      <th>2</th>\n",
       "      <td>3</td>\n",
       "      <td>PNDP</td>\n",
       "    </tr>\n",
       "    <tr>\n",
       "      <th>3</th>\n",
       "      <td>4</td>\n",
       "      <td>inovação</td>\n",
       "    </tr>\n",
       "    <tr>\n",
       "      <th>4</th>\n",
       "      <td>5</td>\n",
       "      <td>melhoria</td>\n",
       "    </tr>\n",
       "    <tr>\n",
       "      <th>5</th>\n",
       "      <td>6</td>\n",
       "      <td>ações implementadas</td>\n",
       "    </tr>\n",
       "    <tr>\n",
       "      <th>6</th>\n",
       "      <td>7</td>\n",
       "      <td>publicidade</td>\n",
       "    </tr>\n",
       "    <tr>\n",
       "      <th>7</th>\n",
       "      <td>8</td>\n",
       "      <td>capacitação</td>\n",
       "    </tr>\n",
       "    <tr>\n",
       "      <th>8</th>\n",
       "      <td>9</td>\n",
       "      <td>cursos</td>\n",
       "    </tr>\n",
       "    <tr>\n",
       "      <th>9</th>\n",
       "      <td>10</td>\n",
       "      <td>conhecimento</td>\n",
       "    </tr>\n",
       "    <tr>\n",
       "      <th>10</th>\n",
       "      <td>11</td>\n",
       "      <td>habilidade</td>\n",
       "    </tr>\n",
       "    <tr>\n",
       "      <th>11</th>\n",
       "      <td>12</td>\n",
       "      <td>atitude</td>\n",
       "    </tr>\n",
       "    <tr>\n",
       "      <th>12</th>\n",
       "      <td>13</td>\n",
       "      <td>competência</td>\n",
       "    </tr>\n",
       "    <tr>\n",
       "      <th>13</th>\n",
       "      <td>14</td>\n",
       "      <td>gestão por competência</td>\n",
       "    </tr>\n",
       "    <tr>\n",
       "      <th>14</th>\n",
       "      <td>15</td>\n",
       "      <td>ações de desenvolvimento</td>\n",
       "    </tr>\n",
       "  </tbody>\n",
       "</table>\n",
       "</div>"
      ],
      "text/plain": [
       "    id                                              text\n",
       "0    1                       desenvolvimento de pessoas \n",
       "1    2  política nacional de desenvolvimento de pessoas \n",
       "2    3                                             PNDP \n",
       "3    4                                         inovação \n",
       "4    5                                         melhoria \n",
       "5    6                              ações implementadas \n",
       "6    7                                      publicidade \n",
       "7    8                                      capacitação \n",
       "8    9                                           cursos \n",
       "9   10                                     conhecimento \n",
       "10  11                                       habilidade \n",
       "11  12                                          atitude \n",
       "12  13                                      competência \n",
       "13  14                           gestão por competência \n",
       "14  15                          ações de desenvolvimento"
      ]
     },
     "execution_count": 2,
     "metadata": {},
     "output_type": "execute_result"
    }
   ],
   "source": [
    "df_tags=pd.read_excel('tags.xlsx')\n",
    "df_tags"
   ]
  },
  {
   "cell_type": "code",
   "execution_count": 26,
   "id": "014a4002",
   "metadata": {},
   "outputs": [],
   "source": [
    "json_data=df_tags.to_json(orient='records',force_ascii=False)"
   ]
  },
  {
   "cell_type": "code",
   "execution_count": 27,
   "id": "0eb5bda0",
   "metadata": {},
   "outputs": [],
   "source": [
    "# Salva o objeto JSON em um arquivo\n",
    "with open('tags.json', 'w', encoding='utf-8') as f:\n",
    "    json.dump(json_data, f, ensure_ascii=False, indent=4)"
   ]
  },
  {
   "cell_type": "markdown",
   "id": "080b5aeb",
   "metadata": {},
   "source": [
    "<h1>Baixando tags do portal</h1>"
   ]
  },
  {
   "cell_type": "code",
   "execution_count": 2,
   "id": "5c2b6623",
   "metadata": {},
   "outputs": [
    {
     "name": "stderr",
     "output_type": "stream",
     "text": [
      "[WDM] - Downloading: 100%|████████████████████████████████████████████████████████| 6.81M/6.81M [00:01<00:00, 5.34MB/s]\n",
      "C:\\Users\\Alexandre Cunha\\AppData\\Local\\Temp\\ipykernel_18660\\1503906442.py:1: DeprecationWarning: executable_path has been deprecated, please pass in a Service object\n",
      "  driver = webdriver.Chrome(ChromeDriverManager().install())\n"
     ]
    }
   ],
   "source": [
    "driver = webdriver.Chrome(ChromeDriverManager().install())"
   ]
  },
  {
   "cell_type": "code",
   "execution_count": 3,
   "id": "205c5ea5",
   "metadata": {},
   "outputs": [],
   "source": [
    "url='https://www.gov.br/servidor/pt-br/observatorio-de-pessoal-govbr/@@template_listagem_produto_dados?form.submitted=1&texto_busca_rapida=&filtro_tema=&tema='"
   ]
  },
  {
   "cell_type": "code",
   "execution_count": 7,
   "id": "013a5266",
   "metadata": {},
   "outputs": [],
   "source": [
    "tags=driver.find_elements(By.CLASS_NAME, 'tags')"
   ]
  },
  {
   "cell_type": "code",
   "execution_count": 8,
   "id": "dda75adc",
   "metadata": {},
   "outputs": [],
   "source": [
    "lista_tags=[]\n",
    "for tag in tags:\n",
    "    links=tag.find_elements(By.CLASS_NAME, 'link-produtos')\n",
    "    for link_produto in links:\n",
    "        lista_tags.append(link_produto.text)"
   ]
  },
  {
   "cell_type": "code",
   "execution_count": 9,
   "id": "128a9a1f",
   "metadata": {},
   "outputs": [
    {
     "data": {
      "text/plain": [
       "424"
      ]
     },
     "execution_count": 9,
     "metadata": {},
     "output_type": "execute_result"
    }
   ],
   "source": [
    "len(lista_tags)"
   ]
  },
  {
   "cell_type": "code",
   "execution_count": 10,
   "id": "a82be24f",
   "metadata": {},
   "outputs": [
    {
     "data": {
      "text/html": [
       "<div>\n",
       "<style scoped>\n",
       "    .dataframe tbody tr th:only-of-type {\n",
       "        vertical-align: middle;\n",
       "    }\n",
       "\n",
       "    .dataframe tbody tr th {\n",
       "        vertical-align: top;\n",
       "    }\n",
       "\n",
       "    .dataframe thead th {\n",
       "        text-align: right;\n",
       "    }\n",
       "</style>\n",
       "<table border=\"1\" class=\"dataframe\">\n",
       "  <thead>\n",
       "    <tr style=\"text-align: right;\">\n",
       "      <th></th>\n",
       "      <th>id</th>\n",
       "      <th>text</th>\n",
       "    </tr>\n",
       "  </thead>\n",
       "  <tbody>\n",
       "    <tr>\n",
       "      <th>0</th>\n",
       "      <td>0</td>\n",
       "      <td>afastamentos</td>\n",
       "    </tr>\n",
       "    <tr>\n",
       "      <th>1</th>\n",
       "      <td>1</td>\n",
       "      <td>saúde</td>\n",
       "    </tr>\n",
       "    <tr>\n",
       "      <th>2</th>\n",
       "      <td>2</td>\n",
       "      <td>Painel Estatístico de Pessoal</td>\n",
       "    </tr>\n",
       "    <tr>\n",
       "      <th>3</th>\n",
       "      <td>3</td>\n",
       "      <td>PEP</td>\n",
       "    </tr>\n",
       "    <tr>\n",
       "      <th>4</th>\n",
       "      <td>4</td>\n",
       "      <td>Servidores</td>\n",
       "    </tr>\n",
       "    <tr>\n",
       "      <th>...</th>\n",
       "      <td>...</td>\n",
       "      <td>...</td>\n",
       "    </tr>\n",
       "    <tr>\n",
       "      <th>291</th>\n",
       "      <td>291</td>\n",
       "      <td>Nome servidor</td>\n",
       "    </tr>\n",
       "    <tr>\n",
       "      <th>292</th>\n",
       "      <td>292</td>\n",
       "      <td>função</td>\n",
       "    </tr>\n",
       "    <tr>\n",
       "      <th>293</th>\n",
       "      <td>293</td>\n",
       "      <td>nome do órgão</td>\n",
       "    </tr>\n",
       "    <tr>\n",
       "      <th>294</th>\n",
       "      <td>294</td>\n",
       "      <td>data início exercício</td>\n",
       "    </tr>\n",
       "    <tr>\n",
       "      <th>295</th>\n",
       "      <td>295</td>\n",
       "      <td>data fim exercício</td>\n",
       "    </tr>\n",
       "  </tbody>\n",
       "</table>\n",
       "<p>296 rows × 2 columns</p>\n",
       "</div>"
      ],
      "text/plain": [
       "      id                           text\n",
       "0      0                   afastamentos\n",
       "1      1                          saúde\n",
       "2      2  Painel Estatístico de Pessoal\n",
       "3      3                            PEP\n",
       "4      4                     Servidores\n",
       "..   ...                            ...\n",
       "291  291                  Nome servidor\n",
       "292  292                         função\n",
       "293  293                  nome do órgão\n",
       "294  294          data início exercício\n",
       "295  295             data fim exercício\n",
       "\n",
       "[296 rows x 2 columns]"
      ]
     },
     "execution_count": 10,
     "metadata": {},
     "output_type": "execute_result"
    }
   ],
   "source": [
    "df_tags=pd.DataFrame()\n",
    "df_tags['TAGS']=lista_tags\n",
    "df_tags=df_tags.drop_duplicates()\n",
    "df_tags=df_tags.reset_index()\n",
    "df_tags=df_tags.drop('index', axis=1)\n",
    "df_tags=df_tags.reset_index()\n",
    "df_tags=df_tags.rename({'index':'id','TAGS':'text'}, axis=1)\n",
    "df_tags"
   ]
  },
  {
   "cell_type": "code",
   "execution_count": 12,
   "id": "c4aee6a1",
   "metadata": {},
   "outputs": [],
   "source": [
    "df_tags=df_tags.drop_duplicates()"
   ]
  },
  {
   "cell_type": "markdown",
   "id": "29678264",
   "metadata": {},
   "source": [
    "<h1>Testando Sinonimos das palavras</h1>"
   ]
  },
  {
   "cell_type": "code",
   "execution_count": 17,
   "id": "45f44719",
   "metadata": {},
   "outputs": [
    {
     "name": "stderr",
     "output_type": "stream",
     "text": [
      "[nltk_data] Downloading package wordnet to C:\\Users\\Alexandre\n",
      "[nltk_data]     Cunha\\AppData\\Roaming\\nltk_data...\n",
      "[nltk_data]   Package wordnet is already up-to-date!\n",
      "[nltk_data] Downloading package omw-1.4 to C:\\Users\\Alexandre\n",
      "[nltk_data]     Cunha\\AppData\\Roaming\\nltk_data...\n"
     ]
    },
    {
     "data": {
      "text/plain": [
       "True"
      ]
     },
     "execution_count": 17,
     "metadata": {},
     "output_type": "execute_result"
    }
   ],
   "source": [
    "import nltk\n",
    "from nltk.corpus import wordnet\n",
    "nltk.download('wordnet')\n",
    "nltk.download('omw-1.4')"
   ]
  },
  {
   "cell_type": "code",
   "execution_count": 18,
   "id": "2af0a216",
   "metadata": {},
   "outputs": [],
   "source": [
    "# Define a palavra de referência\n",
    "palavra_referencia = \"melhoria\"\n",
    "# Busca os synsets (conjuntos de sinônimos) da palavra de referência\n",
    "synsets = wordnet.synsets(palavra_referencia, lang=\"por\")"
   ]
  },
  {
   "cell_type": "code",
   "execution_count": 19,
   "id": "b2a07a2e",
   "metadata": {},
   "outputs": [],
   "source": [
    "# Lista os sinônimos de cada synset encontrado\n",
    "sinonimos = set()\n",
    "for synset in synsets:\n",
    "    for lemma in synset.lemmas(lang=\"por\"):\n",
    "        sinonimos.add(lemma.name())"
   ]
  },
  {
   "cell_type": "code",
   "execution_count": 20,
   "id": "1c6dd010",
   "metadata": {},
   "outputs": [
    {
     "name": "stdout",
     "output_type": "stream",
     "text": [
      "Sinônimos de melhoria: ['progresso', 'melhoramento', 'melhoria', 'aprimoramento']\n"
     ]
    }
   ],
   "source": [
    "# Imprime a lista de sinônimos encontrados\n",
    "print(\"Sinônimos de {}: {}\".format(palavra_referencia, list(sinonimos)))"
   ]
  },
  {
   "cell_type": "code",
   "execution_count": 21,
   "id": "12932107",
   "metadata": {},
   "outputs": [],
   "source": [
    "tag=[]\n",
    "sinonimo=[]\n",
    "for index, row in df_tags.iterrows():\n",
    "    synsets = wordnet.synsets(row['text'], lang=\"por\")\n",
    "    for synset in synsets:\n",
    "        for lemma in synset.lemmas(lang=\"por\"):\n",
    "            tag.append(row['text'])\n",
    "            sinonimo.append(lemma.name())"
   ]
  },
  {
   "cell_type": "code",
   "execution_count": 22,
   "id": "39944d60",
   "metadata": {},
   "outputs": [
    {
     "data": {
      "text/plain": [
       "906"
      ]
     },
     "execution_count": 22,
     "metadata": {},
     "output_type": "execute_result"
    }
   ],
   "source": [
    "len(tag)"
   ]
  },
  {
   "cell_type": "code",
   "execution_count": 25,
   "id": "63f3708a",
   "metadata": {},
   "outputs": [
    {
     "data": {
      "text/html": [
       "<div>\n",
       "<style scoped>\n",
       "    .dataframe tbody tr th:only-of-type {\n",
       "        vertical-align: middle;\n",
       "    }\n",
       "\n",
       "    .dataframe tbody tr th {\n",
       "        vertical-align: top;\n",
       "    }\n",
       "\n",
       "    .dataframe thead th {\n",
       "        text-align: right;\n",
       "    }\n",
       "</style>\n",
       "<table border=\"1\" class=\"dataframe\">\n",
       "  <thead>\n",
       "    <tr style=\"text-align: right;\">\n",
       "      <th></th>\n",
       "      <th>TAGS</th>\n",
       "      <th>Sinonimos</th>\n",
       "    </tr>\n",
       "  </thead>\n",
       "  <tbody>\n",
       "    <tr>\n",
       "      <th>0</th>\n",
       "      <td>saúde</td>\n",
       "      <td>saúde</td>\n",
       "    </tr>\n",
       "    <tr>\n",
       "      <th>1</th>\n",
       "      <td>saúde</td>\n",
       "      <td>bem-estar</td>\n",
       "    </tr>\n",
       "    <tr>\n",
       "      <th>2</th>\n",
       "      <td>saúde</td>\n",
       "      <td>eudemonismo</td>\n",
       "    </tr>\n",
       "    <tr>\n",
       "      <th>5</th>\n",
       "      <td>Servidores</td>\n",
       "      <td>Servidores</td>\n",
       "    </tr>\n",
       "    <tr>\n",
       "      <th>6</th>\n",
       "      <td>Servidores</td>\n",
       "      <td>servidor</td>\n",
       "    </tr>\n",
       "    <tr>\n",
       "      <th>...</th>\n",
       "      <td>...</td>\n",
       "      <td>...</td>\n",
       "    </tr>\n",
       "    <tr>\n",
       "      <th>896</th>\n",
       "      <td>função</td>\n",
       "      <td>Papel_social</td>\n",
       "    </tr>\n",
       "    <tr>\n",
       "      <th>899</th>\n",
       "      <td>função</td>\n",
       "      <td>propósito</td>\n",
       "    </tr>\n",
       "    <tr>\n",
       "      <th>900</th>\n",
       "      <td>função</td>\n",
       "      <td>Sub-rotina</td>\n",
       "    </tr>\n",
       "    <tr>\n",
       "      <th>902</th>\n",
       "      <td>função</td>\n",
       "      <td>sub-rotina</td>\n",
       "    </tr>\n",
       "    <tr>\n",
       "      <th>903</th>\n",
       "      <td>função</td>\n",
       "      <td>subrotina</td>\n",
       "    </tr>\n",
       "  </tbody>\n",
       "</table>\n",
       "<p>549 rows × 2 columns</p>\n",
       "</div>"
      ],
      "text/plain": [
       "           TAGS     Sinonimos\n",
       "0         saúde         saúde\n",
       "1         saúde     bem-estar\n",
       "2         saúde   eudemonismo\n",
       "5    Servidores    Servidores\n",
       "6    Servidores      servidor\n",
       "..          ...           ...\n",
       "896      função  Papel_social\n",
       "899      função     propósito\n",
       "900      função    Sub-rotina\n",
       "902      função    sub-rotina\n",
       "903      função     subrotina\n",
       "\n",
       "[549 rows x 2 columns]"
      ]
     },
     "execution_count": 25,
     "metadata": {},
     "output_type": "execute_result"
    }
   ],
   "source": [
    "df_tags_sinonimos=pd.DataFrame()\n",
    "df_tags_sinonimos['TAGS']=tag\n",
    "df_tags_sinonimos['Sinonimos']=sinonimo\n",
    "df_tags_sinonimos=df_tags_sinonimos.drop_duplicates()\n",
    "df_tags_sinonimos"
   ]
  },
  {
   "cell_type": "code",
   "execution_count": 27,
   "id": "dea67b5e",
   "metadata": {},
   "outputs": [
    {
     "data": {
      "text/plain": [
       "TAGS          83\n",
       "Sinonimos    399\n",
       "dtype: int64"
      ]
     },
     "execution_count": 27,
     "metadata": {},
     "output_type": "execute_result"
    }
   ],
   "source": [
    "df_tags_sinonimos.nunique()"
   ]
  },
  {
   "cell_type": "code",
   "execution_count": 29,
   "id": "f238a650",
   "metadata": {},
   "outputs": [
    {
     "data": {
      "text/html": [
       "<div>\n",
       "<style scoped>\n",
       "    .dataframe tbody tr th:only-of-type {\n",
       "        vertical-align: middle;\n",
       "    }\n",
       "\n",
       "    .dataframe tbody tr th {\n",
       "        vertical-align: top;\n",
       "    }\n",
       "\n",
       "    .dataframe thead th {\n",
       "        text-align: right;\n",
       "    }\n",
       "</style>\n",
       "<table border=\"1\" class=\"dataframe\">\n",
       "  <thead>\n",
       "    <tr style=\"text-align: right;\">\n",
       "      <th></th>\n",
       "      <th>TAGS</th>\n",
       "      <th>Sinonimos</th>\n",
       "    </tr>\n",
       "  </thead>\n",
       "  <tbody>\n",
       "    <tr>\n",
       "      <th>0</th>\n",
       "      <td>afastamentos</td>\n",
       "      <td>afastamentos</td>\n",
       "    </tr>\n",
       "    <tr>\n",
       "      <th>1</th>\n",
       "      <td>saúde</td>\n",
       "      <td>saúde</td>\n",
       "    </tr>\n",
       "    <tr>\n",
       "      <th>2</th>\n",
       "      <td>Painel Estatístico de Pessoal</td>\n",
       "      <td>Painel Estatístico de Pessoal</td>\n",
       "    </tr>\n",
       "    <tr>\n",
       "      <th>3</th>\n",
       "      <td>PEP</td>\n",
       "      <td>PEP</td>\n",
       "    </tr>\n",
       "    <tr>\n",
       "      <th>4</th>\n",
       "      <td>Servidores</td>\n",
       "      <td>Servidores</td>\n",
       "    </tr>\n",
       "    <tr>\n",
       "      <th>...</th>\n",
       "      <td>...</td>\n",
       "      <td>...</td>\n",
       "    </tr>\n",
       "    <tr>\n",
       "      <th>291</th>\n",
       "      <td>Nome servidor</td>\n",
       "      <td>Nome servidor</td>\n",
       "    </tr>\n",
       "    <tr>\n",
       "      <th>292</th>\n",
       "      <td>função</td>\n",
       "      <td>função</td>\n",
       "    </tr>\n",
       "    <tr>\n",
       "      <th>293</th>\n",
       "      <td>nome do órgão</td>\n",
       "      <td>nome do órgão</td>\n",
       "    </tr>\n",
       "    <tr>\n",
       "      <th>294</th>\n",
       "      <td>data início exercício</td>\n",
       "      <td>data início exercício</td>\n",
       "    </tr>\n",
       "    <tr>\n",
       "      <th>295</th>\n",
       "      <td>data fim exercício</td>\n",
       "      <td>data fim exercício</td>\n",
       "    </tr>\n",
       "  </tbody>\n",
       "</table>\n",
       "<p>296 rows × 2 columns</p>\n",
       "</div>"
      ],
      "text/plain": [
       "                              TAGS                      Sinonimos\n",
       "0                     afastamentos                   afastamentos\n",
       "1                            saúde                          saúde\n",
       "2    Painel Estatístico de Pessoal  Painel Estatístico de Pessoal\n",
       "3                              PEP                            PEP\n",
       "4                       Servidores                     Servidores\n",
       "..                             ...                            ...\n",
       "291                  Nome servidor                  Nome servidor\n",
       "292                         função                         função\n",
       "293                  nome do órgão                  nome do órgão\n",
       "294          data início exercício          data início exercício\n",
       "295             data fim exercício             data fim exercício\n",
       "\n",
       "[296 rows x 2 columns]"
      ]
     },
     "execution_count": 29,
     "metadata": {},
     "output_type": "execute_result"
    }
   ],
   "source": [
    "df_tags_sinonimos2=df_tags.copy()\n",
    "df_tags_sinonimos2=df_tags_sinonimos2.rename({'text':'TAGS'}, axis=1)\n",
    "df_tags_sinonimos2['Sinonimos']=df_tags_sinonimos2['TAGS']\n",
    "df_tags_sinonimos2=df_tags_sinonimos2[['TAGS','Sinonimos']]\n",
    "df_tags_sinonimos2"
   ]
  },
  {
   "cell_type": "code",
   "execution_count": 30,
   "id": "e2c4a4a3",
   "metadata": {},
   "outputs": [
    {
     "data": {
      "text/plain": [
       "TAGS         296\n",
       "Sinonimos    636\n",
       "dtype: int64"
      ]
     },
     "execution_count": 30,
     "metadata": {},
     "output_type": "execute_result"
    }
   ],
   "source": [
    "df_tags_sinonimos_rev1=pd.concat([df_tags_sinonimos,df_tags_sinonimos2])\n",
    "df_tags_sinonimos_rev1=df_tags_sinonimos_rev1.drop_duplicates()\n",
    "df_tags_sinonimos_rev1.nunique()"
   ]
  },
  {
   "cell_type": "code",
   "execution_count": 31,
   "id": "f13062d8",
   "metadata": {},
   "outputs": [
    {
     "data": {
      "text/html": [
       "<div>\n",
       "<style scoped>\n",
       "    .dataframe tbody tr th:only-of-type {\n",
       "        vertical-align: middle;\n",
       "    }\n",
       "\n",
       "    .dataframe tbody tr th {\n",
       "        vertical-align: top;\n",
       "    }\n",
       "\n",
       "    .dataframe thead th {\n",
       "        text-align: right;\n",
       "    }\n",
       "</style>\n",
       "<table border=\"1\" class=\"dataframe\">\n",
       "  <thead>\n",
       "    <tr style=\"text-align: right;\">\n",
       "      <th></th>\n",
       "      <th>TAGS</th>\n",
       "      <th>Sinonimos</th>\n",
       "    </tr>\n",
       "  </thead>\n",
       "  <tbody>\n",
       "    <tr>\n",
       "      <th>0</th>\n",
       "      <td>saúde</td>\n",
       "      <td>saúde</td>\n",
       "    </tr>\n",
       "    <tr>\n",
       "      <th>1</th>\n",
       "      <td>saúde</td>\n",
       "      <td>bem-estar</td>\n",
       "    </tr>\n",
       "    <tr>\n",
       "      <th>2</th>\n",
       "      <td>saúde</td>\n",
       "      <td>eudemonismo</td>\n",
       "    </tr>\n",
       "    <tr>\n",
       "      <th>5</th>\n",
       "      <td>Servidores</td>\n",
       "      <td>Servidores</td>\n",
       "    </tr>\n",
       "    <tr>\n",
       "      <th>6</th>\n",
       "      <td>Servidores</td>\n",
       "      <td>servidor</td>\n",
       "    </tr>\n",
       "    <tr>\n",
       "      <th>...</th>\n",
       "      <td>...</td>\n",
       "      <td>...</td>\n",
       "    </tr>\n",
       "    <tr>\n",
       "      <th>290</th>\n",
       "      <td>Pessoas politicamente expostas</td>\n",
       "      <td>Pessoas politicamente expostas</td>\n",
       "    </tr>\n",
       "    <tr>\n",
       "      <th>291</th>\n",
       "      <td>Nome servidor</td>\n",
       "      <td>Nome servidor</td>\n",
       "    </tr>\n",
       "    <tr>\n",
       "      <th>293</th>\n",
       "      <td>nome do órgão</td>\n",
       "      <td>nome do órgão</td>\n",
       "    </tr>\n",
       "    <tr>\n",
       "      <th>294</th>\n",
       "      <td>data início exercício</td>\n",
       "      <td>data início exercício</td>\n",
       "    </tr>\n",
       "    <tr>\n",
       "      <th>295</th>\n",
       "      <td>data fim exercício</td>\n",
       "      <td>data fim exercício</td>\n",
       "    </tr>\n",
       "  </tbody>\n",
       "</table>\n",
       "<p>786 rows × 2 columns</p>\n",
       "</div>"
      ],
      "text/plain": [
       "                               TAGS                       Sinonimos\n",
       "0                             saúde                           saúde\n",
       "1                             saúde                       bem-estar\n",
       "2                             saúde                     eudemonismo\n",
       "5                        Servidores                      Servidores\n",
       "6                        Servidores                        servidor\n",
       "..                              ...                             ...\n",
       "290  Pessoas politicamente expostas  Pessoas politicamente expostas\n",
       "291                   Nome servidor                   Nome servidor\n",
       "293                   nome do órgão                   nome do órgão\n",
       "294           data início exercício           data início exercício\n",
       "295              data fim exercício              data fim exercício\n",
       "\n",
       "[786 rows x 2 columns]"
      ]
     },
     "execution_count": 31,
     "metadata": {},
     "output_type": "execute_result"
    }
   ],
   "source": [
    "df_tags_sinonimos_rev1"
   ]
  },
  {
   "cell_type": "code",
   "execution_count": null,
   "id": "f910dbf7",
   "metadata": {},
   "outputs": [],
   "source": []
  },
  {
   "cell_type": "code",
   "execution_count": null,
   "id": "e81ccab2",
   "metadata": {},
   "outputs": [],
   "source": []
  }
 ],
 "metadata": {
  "kernelspec": {
   "display_name": "Python 3 (ipykernel)",
   "language": "python",
   "name": "python3"
  },
  "language_info": {
   "codemirror_mode": {
    "name": "ipython",
    "version": 3
   },
   "file_extension": ".py",
   "mimetype": "text/x-python",
   "name": "python",
   "nbconvert_exporter": "python",
   "pygments_lexer": "ipython3",
   "version": "3.11.1"
  }
 },
 "nbformat": 4,
 "nbformat_minor": 5
}
